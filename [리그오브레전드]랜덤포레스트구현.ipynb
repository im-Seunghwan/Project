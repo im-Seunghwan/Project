{
 "cells": [
  {
   "cell_type": "code",
   "execution_count": null,
   "metadata": {},
   "outputs": [],
   "source": [
    "import pandas as pd\n",
    "import requests\n",
    "from IPython.display import clear_output\n",
    "import time"
   ]
  },
  {
   "cell_type": "code",
   "execution_count": null,
   "metadata": {
    "scrolled": true
   },
   "outputs": [],
   "source": [
    "final_df = pd.read_csv('데마프로젝트최종데이터.csv',index_col =0)\n",
    "final_df.head()"
   ]
  },
  {
   "cell_type": "code",
   "execution_count": null,
   "metadata": {
    "scrolled": true
   },
   "outputs": [],
   "source": [
    "for i in [1,2,3,4,5,6,7,8,9,10,17,18,19,20,21]:\n",
    "    final_df[final_df.columns[i]] = final_df[final_df.columns[i]].astype('str') "
   ]
  },
  {
   "cell_type": "code",
   "execution_count": null,
   "metadata": {},
   "outputs": [],
   "source": [
    "from sklearn.ensemble import RandomForestRegressor\n",
    "from sklearn.model_selection import train_test_split\n",
    "from sklearn.ensemble import RandomForestClassifier\n",
    "from sklearn.metrics import accuracy_score\n",
    "from sklearn.tree import DecisionTreeClassifier\n",
    "from sklearn.tree import export_graphviz\n"
   ]
  },
  {
   "cell_type": "code",
   "execution_count": null,
   "metadata": {},
   "outputs": [],
   "source": [
    "final_df.dtypes"
   ]
  },
  {
   "cell_type": "code",
   "execution_count": null,
   "metadata": {},
   "outputs": [],
   "source": [
    "class_df = final_df['win']"
   ]
  },
  {
   "cell_type": "code",
   "execution_count": null,
   "metadata": {},
   "outputs": [],
   "source": [
    "# 인게임 데이터\n",
    "# 인게임 요소 기준 FI(첫 억제기 파괴) 제외\n",
    "train_pre = final_df.loc[:,['FB','FT','FD','FJ' ]]"
   ]
  },
  {
   "cell_type": "code",
   "execution_count": null,
   "metadata": {},
   "outputs": [],
   "source": [
    "X_train, X_test, y_train, y_test = train_test_split(train_pre, class_df, stratify = class_df, random_state=42,train_size = 0.25)"
   ]
  },
  {
   "cell_type": "code",
   "execution_count": null,
   "metadata": {},
   "outputs": [],
   "source": [
    "#decision Tree\n",
    "DT_accuracy_list =[]\n",
    "DT_model_list = []\n",
    "for depth in range(1,8):\n",
    "    tree = DecisionTreeClassifier(max_depth = depth, random_state=123)\n",
    "    tree.fit(X_train, y_train)\n",
    "\n",
    "    y_pred = tree.predict(X_test)\n",
    "    accuracy = accuracy_score(y_pred, y_test)\n",
    "    DT_accuracy_list.append(accuracy)\n",
    "    DT_model_list.append(tree)\n",
    "\n",
    "\n",
    "best_index = DT_accuracy_list.index(max(DT_accuracy_list))+1\n",
    "print(\"테스트 정확도: {:.3f}\".format(max(DT_accuracy_list)))\n",
    "print('최대 깊이 : {:d}'.format(best_index))\n",
    "best_DT = DT_model_list[best_index-1]"
   ]
  },
  {
   "cell_type": "code",
   "execution_count": null,
   "metadata": {},
   "outputs": [],
   "source": [
    "best_DT.feature_importances_"
   ]
  },
  {
   "cell_type": "code",
   "execution_count": null,
   "metadata": {},
   "outputs": [],
   "source": [
    "importance = best_DT.feature_importances_\n",
    "importance_list = list(zip(X_train.columns, importance))\n",
    "\n",
    "sorted(importance_list, key =lambda x:x[1], reverse=True)"
   ]
  },
  {
   "cell_type": "code",
   "execution_count": null,
   "metadata": {},
   "outputs": [],
   "source": [
    "# random forest\n",
    "RF_accuracy_list = []\n",
    "RF_model_list =[]\n",
    "for i in range(10):\n",
    "    clf_rf = RandomForestClassifier()\n",
    "    clf_rf.fit(X_train, y_train)\n",
    "    y_pred = clf_rf.predict(X_test)\n",
    "    accuracy = accuracy_score(y_pred, y_test)\n",
    "    RF_accuracy_list.append(accuracy)\n",
    "    RF_model_list.append(clf_rf)\n",
    "    \n",
    "print(\"테스트 정확도: {:.3f}\".format(max(RF_accuracy_list)))\n",
    "print(f'가장 성능이 좋은 모델: {(DT_accuracy_list.index(max(DT_accuracy_list)))+1}번째 모델')\n",
    "best_RF = RF_model_list[(DT_accuracy_list.index(max(DT_accuracy_list)))]"
   ]
  },
  {
   "cell_type": "code",
   "execution_count": null,
   "metadata": {},
   "outputs": [],
   "source": [
    "best_RF.feature_importances_"
   ]
  },
  {
   "cell_type": "code",
   "execution_count": null,
   "metadata": {},
   "outputs": [],
   "source": [
    "importance2 = best_RF.feature_importances_\n",
    "importance_list2 = list(zip(X_train.columns, importance2))\n",
    "\n",
    "sorted(importance_list2, key =lambda x:x[1], reverse=True)"
   ]
  },
  {
   "cell_type": "code",
   "execution_count": null,
   "metadata": {},
   "outputs": [],
   "source": []
  }
 ],
 "metadata": {
  "kernelspec": {
   "display_name": "Python 3",
   "language": "python",
   "name": "python3"
  },
  "language_info": {
   "codemirror_mode": {
    "name": "ipython",
    "version": 3
   },
   "file_extension": ".py",
   "mimetype": "text/x-python",
   "name": "python",
   "nbconvert_exporter": "python",
   "pygments_lexer": "ipython3",
   "version": "3.7.3"
  }
 },
 "nbformat": 4,
 "nbformat_minor": 2
}
