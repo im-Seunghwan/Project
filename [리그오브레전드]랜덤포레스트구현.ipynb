{
 "cells": [
  {
   "cell_type": "code",
   "execution_count": 1,
   "metadata": {},
   "outputs": [],
   "source": [
    "import pandas as pd\n",
    "import requests\n",
    "from IPython.display import clear_output\n",
    "import time"
   ]
  },
  {
   "cell_type": "code",
   "execution_count": 17,
   "metadata": {
    "scrolled": true
   },
   "outputs": [
    {
     "data": {
      "text/html": [
       "<div>\n",
       "<style scoped>\n",
       "    .dataframe tbody tr th:only-of-type {\n",
       "        vertical-align: middle;\n",
       "    }\n",
       "\n",
       "    .dataframe tbody tr th {\n",
       "        vertical-align: top;\n",
       "    }\n",
       "\n",
       "    .dataframe thead th {\n",
       "        text-align: right;\n",
       "    }\n",
       "</style>\n",
       "<table border=\"1\" class=\"dataframe\">\n",
       "  <thead>\n",
       "    <tr style=\"text-align: right;\">\n",
       "      <th></th>\n",
       "      <th>MATCH_ID</th>\n",
       "      <th>T1_top</th>\n",
       "      <th>T1_jug</th>\n",
       "      <th>T1_mid</th>\n",
       "      <th>T1_adc</th>\n",
       "      <th>T1_sup</th>\n",
       "      <th>T2_top</th>\n",
       "      <th>T2_jug</th>\n",
       "      <th>T2_mid</th>\n",
       "      <th>T2_adc</th>\n",
       "      <th>...</th>\n",
       "      <th>jug_counter</th>\n",
       "      <th>mid_counter</th>\n",
       "      <th>adc_counter</th>\n",
       "      <th>sup_counter</th>\n",
       "      <th>win</th>\n",
       "      <th>FB</th>\n",
       "      <th>FT</th>\n",
       "      <th>FI</th>\n",
       "      <th>FD</th>\n",
       "      <th>FJ</th>\n",
       "    </tr>\n",
       "  </thead>\n",
       "  <tbody>\n",
       "    <tr>\n",
       "      <th>0</th>\n",
       "      <td>4404609027</td>\n",
       "      <td>4</td>\n",
       "      <td>1</td>\n",
       "      <td>5</td>\n",
       "      <td>2</td>\n",
       "      <td>5</td>\n",
       "      <td>2</td>\n",
       "      <td>2</td>\n",
       "      <td>4</td>\n",
       "      <td>1</td>\n",
       "      <td>...</td>\n",
       "      <td>50.53</td>\n",
       "      <td>28.99</td>\n",
       "      <td>47.61</td>\n",
       "      <td>37.90</td>\n",
       "      <td>Fail</td>\n",
       "      <td>0</td>\n",
       "      <td>0</td>\n",
       "      <td>0</td>\n",
       "      <td>0</td>\n",
       "      <td>1</td>\n",
       "    </tr>\n",
       "    <tr>\n",
       "      <th>1</th>\n",
       "      <td>4385275912</td>\n",
       "      <td>2</td>\n",
       "      <td>2</td>\n",
       "      <td>3</td>\n",
       "      <td>4</td>\n",
       "      <td>1</td>\n",
       "      <td>3</td>\n",
       "      <td>1</td>\n",
       "      <td>2</td>\n",
       "      <td>3</td>\n",
       "      <td>...</td>\n",
       "      <td>47.63</td>\n",
       "      <td>39.85</td>\n",
       "      <td>48.56</td>\n",
       "      <td>60.27</td>\n",
       "      <td>Win</td>\n",
       "      <td>1</td>\n",
       "      <td>0</td>\n",
       "      <td>1</td>\n",
       "      <td>1</td>\n",
       "      <td>0</td>\n",
       "    </tr>\n",
       "    <tr>\n",
       "      <th>2</th>\n",
       "      <td>4406640659</td>\n",
       "      <td>3</td>\n",
       "      <td>2</td>\n",
       "      <td>2</td>\n",
       "      <td>3</td>\n",
       "      <td>4</td>\n",
       "      <td>1</td>\n",
       "      <td>2</td>\n",
       "      <td>2</td>\n",
       "      <td>3</td>\n",
       "      <td>...</td>\n",
       "      <td>50.33</td>\n",
       "      <td>25.99</td>\n",
       "      <td>44.57</td>\n",
       "      <td>52.69</td>\n",
       "      <td>Fail</td>\n",
       "      <td>0</td>\n",
       "      <td>0</td>\n",
       "      <td>0</td>\n",
       "      <td>0</td>\n",
       "      <td>0</td>\n",
       "    </tr>\n",
       "    <tr>\n",
       "      <th>3</th>\n",
       "      <td>4385800216</td>\n",
       "      <td>2</td>\n",
       "      <td>4</td>\n",
       "      <td>5</td>\n",
       "      <td>4</td>\n",
       "      <td>4</td>\n",
       "      <td>2</td>\n",
       "      <td>2</td>\n",
       "      <td>4</td>\n",
       "      <td>1</td>\n",
       "      <td>...</td>\n",
       "      <td>48.60</td>\n",
       "      <td>33.81</td>\n",
       "      <td>52.32</td>\n",
       "      <td>47.00</td>\n",
       "      <td>Fail</td>\n",
       "      <td>0</td>\n",
       "      <td>0</td>\n",
       "      <td>0</td>\n",
       "      <td>1</td>\n",
       "      <td>0</td>\n",
       "    </tr>\n",
       "    <tr>\n",
       "      <th>4</th>\n",
       "      <td>4406640667</td>\n",
       "      <td>4</td>\n",
       "      <td>4</td>\n",
       "      <td>3</td>\n",
       "      <td>1</td>\n",
       "      <td>3</td>\n",
       "      <td>5</td>\n",
       "      <td>1</td>\n",
       "      <td>3</td>\n",
       "      <td>4</td>\n",
       "      <td>...</td>\n",
       "      <td>50.11</td>\n",
       "      <td>49.51</td>\n",
       "      <td>53.82</td>\n",
       "      <td>48.41</td>\n",
       "      <td>Win</td>\n",
       "      <td>1</td>\n",
       "      <td>1</td>\n",
       "      <td>1</td>\n",
       "      <td>1</td>\n",
       "      <td>1</td>\n",
       "    </tr>\n",
       "  </tbody>\n",
       "</table>\n",
       "<p>5 rows × 22 columns</p>\n",
       "</div>"
      ],
      "text/plain": [
       "     MATCH_ID  T1_top  T1_jug  T1_mid  T1_adc  T1_sup  T2_top  T2_jug  T2_mid  \\\n",
       "0  4404609027       4       1       5       2       5       2       2       4   \n",
       "1  4385275912       2       2       3       4       1       3       1       2   \n",
       "2  4406640659       3       2       2       3       4       1       2       2   \n",
       "3  4385800216       2       4       5       4       4       2       2       4   \n",
       "4  4406640667       4       4       3       1       3       5       1       3   \n",
       "\n",
       "   T2_adc  ...  jug_counter  mid_counter  adc_counter  sup_counter   win  FB  \\\n",
       "0       1  ...        50.53        28.99        47.61        37.90  Fail   0   \n",
       "1       3  ...        47.63        39.85        48.56        60.27   Win   1   \n",
       "2       3  ...        50.33        25.99        44.57        52.69  Fail   0   \n",
       "3       1  ...        48.60        33.81        52.32        47.00  Fail   0   \n",
       "4       4  ...        50.11        49.51        53.82        48.41   Win   1   \n",
       "\n",
       "  FT  FI  FD  FJ  \n",
       "0  0   0   0   1  \n",
       "1  0   1   1   0  \n",
       "2  0   0   0   0  \n",
       "3  0   0   1   0  \n",
       "4  1   1   1   1  \n",
       "\n",
       "[5 rows x 22 columns]"
      ]
     },
     "execution_count": 17,
     "metadata": {},
     "output_type": "execute_result"
    }
   ],
   "source": [
    "final_df = pd.read_csv('데마프로젝트최종데이터.csv',index_col =0)\n",
    "final_df.head()"
   ]
  },
  {
   "cell_type": "code",
   "execution_count": 20,
   "metadata": {
    "scrolled": true
   },
   "outputs": [],
   "source": [
    "for i in [1,2,3,4,5,6,7,8,9,10,17,18,19,20,21]:\n",
    "    final_df[final_df.columns[i]] = final_df[final_df.columns[i]].astype('str') "
   ]
  },
  {
   "cell_type": "code",
   "execution_count": 155,
   "metadata": {},
   "outputs": [],
   "source": [
    "from sklearn.ensemble import RandomForestRegressor\n",
    "from sklearn.model_selection import train_test_split\n",
    "from sklearn.ensemble import RandomForestClassifier\n",
    "from sklearn.metrics import accuracy_score\n",
    "from sklearn.tree import DecisionTreeClassifier\n",
    "from sklearn.tree import export_graphviz\n"
   ]
  },
  {
   "cell_type": "code",
   "execution_count": 21,
   "metadata": {},
   "outputs": [
    {
     "data": {
      "text/plain": [
       "MATCH_ID         int64\n",
       "T1_top          object\n",
       "T1_jug          object\n",
       "T1_mid          object\n",
       "T1_adc          object\n",
       "T1_sup          object\n",
       "T2_top          object\n",
       "T2_jug          object\n",
       "T2_mid          object\n",
       "T2_adc          object\n",
       "T2_sup          object\n",
       "top_counter    float64\n",
       "jug_counter    float64\n",
       "mid_counter    float64\n",
       "adc_counter    float64\n",
       "sup_counter    float64\n",
       "win             object\n",
       "FB              object\n",
       "FT              object\n",
       "FI              object\n",
       "FD              object\n",
       "FJ              object\n",
       "dtype: object"
      ]
     },
     "execution_count": 21,
     "metadata": {},
     "output_type": "execute_result"
    }
   ],
   "source": [
    "final_df.dtypes"
   ]
  },
  {
   "cell_type": "code",
   "execution_count": 8,
   "metadata": {},
   "outputs": [],
   "source": [
    "class_df = final_df['win']"
   ]
  },
  {
   "cell_type": "code",
   "execution_count": 158,
   "metadata": {},
   "outputs": [],
   "source": [
    "# 인게임 데이터\n",
    "# 인게임 요소 기준 FI(첫 억제기 파괴) 제외\n",
    "train_pre = final_df.loc[:,['FB','FT','FD','FJ' ]]"
   ]
  },
  {
   "cell_type": "code",
   "execution_count": 159,
   "metadata": {},
   "outputs": [],
   "source": [
    "X_train, X_test, y_train, y_test = train_test_split(train_pre, class_df, stratify = class_df, random_state=42,train_size = 0.25)"
   ]
  },
  {
   "cell_type": "code",
   "execution_count": 160,
   "metadata": {},
   "outputs": [
    {
     "name": "stdout",
     "output_type": "stream",
     "text": [
      "테스트 정확도: 0.782\n",
      "최대 깊이 : 2\n"
     ]
    }
   ],
   "source": [
    "#decision Tree\n",
    "DT_accuracy_list =[]\n",
    "DT_model_list = []\n",
    "for depth in range(1,8):\n",
    "    tree = DecisionTreeClassifier(max_depth = depth, random_state=123)\n",
    "    tree.fit(X_train, y_train)\n",
    "\n",
    "    y_pred = tree.predict(X_test)\n",
    "    accuracy = accuracy_score(y_pred, y_test)\n",
    "    DT_accuracy_list.append(accuracy)\n",
    "    DT_model_list.append(tree)\n",
    "\n",
    "\n",
    "best_index = DT_accuracy_list.index(max(DT_accuracy_list))+1\n",
    "print(\"테스트 정확도: {:.3f}\".format(max(DT_accuracy_list)))\n",
    "print('최대 깊이 : {:d}'.format(best_index))\n",
    "best_DT = DT_model_list[best_index-1]"
   ]
  },
  {
   "cell_type": "code",
   "execution_count": 161,
   "metadata": {},
   "outputs": [
    {
     "data": {
      "text/plain": [
       "array([0.37317835, 0.62682165, 0.        , 0.        ])"
      ]
     },
     "execution_count": 161,
     "metadata": {},
     "output_type": "execute_result"
    }
   ],
   "source": [
    "best_DT.feature_importances_"
   ]
  },
  {
   "cell_type": "code",
   "execution_count": 162,
   "metadata": {},
   "outputs": [
    {
     "data": {
      "text/plain": [
       "[('FT', 0.6268216458133258),\n",
       " ('FB', 0.3731783541866742),\n",
       " ('FD', 0.0),\n",
       " ('FJ', 0.0)]"
      ]
     },
     "execution_count": 162,
     "metadata": {},
     "output_type": "execute_result"
    }
   ],
   "source": [
    "importance = best_DT.feature_importances_\n",
    "importance_list = list(zip(X_train.columns, importance))\n",
    "\n",
    "sorted(importance_list, key =lambda x:x[1], reverse=True)"
   ]
  },
  {
   "cell_type": "code",
   "execution_count": 163,
   "metadata": {},
   "outputs": [
    {
     "name": "stdout",
     "output_type": "stream",
     "text": [
      "테스트 정확도: 0.782\n",
      "가장 성능이 좋은 모델: 2번째 모델\n"
     ]
    }
   ],
   "source": [
    "# random forest\n",
    "RF_accuracy_list = []\n",
    "RF_model_list =[]\n",
    "for i in range(10):\n",
    "    clf_rf = RandomForestClassifier()\n",
    "    clf_rf.fit(X_train, y_train)\n",
    "    y_pred = clf_rf.predict(X_test)\n",
    "    accuracy = accuracy_score(y_pred, y_test)\n",
    "    RF_accuracy_list.append(accuracy)\n",
    "    RF_model_list.append(clf_rf)\n",
    "    \n",
    "print(\"테스트 정확도: {:.3f}\".format(max(RF_accuracy_list)))\n",
    "print(f'가장 성능이 좋은 모델: {(DT_accuracy_list.index(max(DT_accuracy_list)))+1}번째 모델')\n",
    "best_RF = RF_model_list[(DT_accuracy_list.index(max(DT_accuracy_list)))]"
   ]
  },
  {
   "cell_type": "code",
   "execution_count": 164,
   "metadata": {},
   "outputs": [
    {
     "data": {
      "text/plain": [
       "array([0.36960383, 0.4831102 , 0.09045516, 0.05683081])"
      ]
     },
     "execution_count": 164,
     "metadata": {},
     "output_type": "execute_result"
    }
   ],
   "source": [
    "best_RF.feature_importances_"
   ]
  },
  {
   "cell_type": "code",
   "execution_count": 165,
   "metadata": {},
   "outputs": [
    {
     "data": {
      "text/plain": [
       "[('FT', 0.48311019605791516),\n",
       " ('FB', 0.36960382882787995),\n",
       " ('FD', 0.09045516208928221),\n",
       " ('FJ', 0.05683081302492275)]"
      ]
     },
     "execution_count": 165,
     "metadata": {},
     "output_type": "execute_result"
    }
   ],
   "source": [
    "importance2 = best_RF.feature_importances_\n",
    "importance_list2 = list(zip(X_train.columns, importance2))\n",
    "\n",
    "sorted(importance_list2, key =lambda x:x[1], reverse=True)"
   ]
  },
  {
   "cell_type": "code",
   "execution_count": null,
   "metadata": {},
   "outputs": [],
   "source": []
  }
 ],
 "metadata": {
  "kernelspec": {
   "display_name": "Python 3",
   "language": "python",
   "name": "python3"
  },
  "language_info": {
   "codemirror_mode": {
    "name": "ipython",
    "version": 3
   },
   "file_extension": ".py",
   "mimetype": "text/x-python",
   "name": "python",
   "nbconvert_exporter": "python",
   "pygments_lexer": "ipython3",
   "version": "3.7.3"
  }
 },
 "nbformat": 4,
 "nbformat_minor": 2
}
